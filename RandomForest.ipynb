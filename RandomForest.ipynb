{
  "nbformat": 4,
  "nbformat_minor": 0,
  "metadata": {
    "colab": {
      "provenance": [],
      "authorship_tag": "ABX9TyNNtytAaLvKQJmmfOVj1aXe",
      "include_colab_link": true
    },
    "kernelspec": {
      "name": "python3",
      "display_name": "Python 3"
    },
    "language_info": {
      "name": "python"
    }
  },
  "cells": [
    {
      "cell_type": "markdown",
      "metadata": {
        "id": "view-in-github",
        "colab_type": "text"
      },
      "source": [
        "<a href=\"https://colab.research.google.com/github/SergeyHSE/Bagging.github.io/blob/main/RandomForest.ipynb\" target=\"_parent\"><img src=\"https://colab.research.google.com/assets/colab-badge.svg\" alt=\"Open In Colab\"/></a>"
      ]
    },
    {
      "cell_type": "markdown",
      "source": [
        "##**1**\n",
        "\n"
      ],
      "metadata": {
        "id": "0p_uh7rIHYIf"
      }
    },
    {
      "cell_type": "code",
      "execution_count": 1,
      "metadata": {
        "id": "UBaKuw8IHPDr"
      },
      "outputs": [],
      "source": [
        "#Let's load the load_wine data from sklearn.datasets\n",
        "import numpy as np\n",
        "import pandas as pd\n",
        "from sklearn.model_selection import train_test_split\n",
        "\n",
        "from sklearn.datasets import load_wine\n",
        "data = load_wine()"
      ]
    },
    {
      "cell_type": "code",
      "source": [
        "#We will exclude Class 2 objects from the training part.\n",
        "X, y = data['data'], data['target']\n",
        "\n",
        "y = np.expand_dims(y, axis=1)\n",
        "\n",
        "data1 = np.concatenate((X, y), axis=1)\n",
        "data2 = np.delete(data1, np.where(data1[:, -1] == 2), axis=0)\n",
        "X_cut = np.delete(data2, 13, axis=1)\n",
        "y_cut = np.delete(data2, np.s_[0:13], axis=1)\n",
        "y = np.squeeze(y_cut, axis=-1)\n",
        "\n",
        "X = pd.DataFrame(data=X_cut, columns=data.feature_names)\n",
        "X_train, X_test, y_train, y_test = train_test_split(X, y, random_state=0)\n",
        "X_train.shape, X_test.shape, y_train.shape, y_test.shape"
      ],
      "metadata": {
        "colab": {
          "base_uri": "https://localhost:8080/"
        },
        "id": "TD1FtedJHnRf",
        "outputId": "e1b32233-fa5e-4232-c1ce-f20242a891ef"
      },
      "execution_count": 2,
      "outputs": [
        {
          "output_type": "execute_result",
          "data": {
            "text/plain": [
              "((97, 13), (33, 13), (97,), (33,))"
            ]
          },
          "metadata": {},
          "execution_count": 2
        }
      ]
    },
    {
      "cell_type": "code",
      "source": [],
      "metadata": {
        "id": "DVi1fCtwIDEJ"
      },
      "execution_count": null,
      "outputs": []
    }
  ]
}